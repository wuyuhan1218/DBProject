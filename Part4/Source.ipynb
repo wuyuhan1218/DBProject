{
  "nbformat": 4,
  "nbformat_minor": 0,
  "metadata": {
    "colab": {
      "provenance": []
    },
    "kernelspec": {
      "name": "python3",
      "display_name": "Python 3"
    },
    "language_info": {
      "name": "python"
    }
  },
  "cells": [
    {
      "cell_type": "code",
      "execution_count": 18,
      "metadata": {
        "id": "9Ink8fhjJTWz"
      },
      "outputs": [],
      "source": [
        "import pickle\n",
        "with open('model.sav', 'rb') as f:\n",
        "    model = pickle.load(f)"
      ]
    },
    {
      "cell_type": "code",
      "source": [
        "import pandas as pd\n",
        "inputdf = pd.DataFrame(columns=['age','bp','sg', 'al', 'su', 'rbc','pc','pcc', 'ba', 'bgr', 'bu', 'sc', 'sod', 'pot', 'hemo' , 'pcv', 'wc', 'rc', 'htn', 'dm', 'cad', 'appet', 'pe', 'ane'])\n",
        "print(\"Thank you for contacting us, if you are interested in chornic disease insurance, please answer following questions.\")"
      ],
      "metadata": {
        "id": "07Jw_WZNJoLC",
        "colab": {
          "base_uri": "https://localhost:8080/"
        },
        "outputId": "a030397c-3bc0-4a3b-cb5a-0f4a4e5001c0"
      },
      "execution_count": 19,
      "outputs": [
        {
          "output_type": "stream",
          "name": "stdout",
          "text": [
            "Thank you for contacting us, if you are interested in chornic disease insurance, please answer following questions.\n"
          ]
        }
      ]
    },
    {
      "cell_type": "code",
      "source": [
        "\n",
        "#age - age\n",
        "#bp - blood pressure\n",
        "#sg - specific gravity\n",
        "#al - albumin\n",
        "#su - sugar\n",
        "#rbc - red blood cells\n",
        "#pc - pus cell\n",
        "#pcc - pus cell clumps\n",
        "#ba - bacteria\n",
        "#bgr - blood glucose random\n",
        "#bu - blood urea\n",
        "#sc - serum creatinine\n",
        "#sod - sodium\n",
        "#pot - potassium\n",
        "#hemo - hemoglobin\n",
        "#pcv - packed cell volume\n",
        "#wc - white blood cell count\n",
        "#rc - red blood cell count\n",
        "#htn - hypertension\n",
        "#dm - diabetes mellitus\n",
        "#cad - coronary artery disease\n",
        "#appet - appetite\n",
        "#pe - pedal edema\n",
        "#ane - anemia\n",
        "#class - class"
      ],
      "metadata": {
        "id": "8wJ9Nem-JwO0"
      },
      "execution_count": 20,
      "outputs": []
    },
    {
      "cell_type": "code",
      "source": [
        "age= input(\"Please enter your age: \")\n",
        "bp = input(\"Please enter your blood pressure: \")\n",
        "sg = input(\"Please enter your specific gravity: \")\n",
        "al= input(\"Please enter your albumin: \")\n",
        "su = input(\"Please enter your sugar level: \")\n",
        "rbc = input(\"Please enter your red blood cells (1 for abnormal, 0 for normal): \")\n",
        "pc = input(\"Please enter your pus cell (1 for abnormal, 0 for normal): \")\n",
        "pcc = input(\"Please enter your pus cell clumps (1 for present, 0 for notpresent): \")\n",
        "ba = input(\"Please enter your bacteria (1 for present, 0 for notpresent): \")\n",
        "bgr = input(\"Please enter your blood glucose random value: \")\n",
        "bu = input(\"Please enter your blood urea value: \")\n",
        "sc = input(\"Please enter your serum creatinine value: \")\n",
        "sod = input(\"Please enter your sodium value: \")\n",
        "pot = input(\"Please enter your potassium value: \")\n",
        "hemo = input(\"Please enter your hemoglobin value: \")\n",
        "pcv = input(\"Please enter your packed cell volume: \")\n",
        "wc = input(\"Please enter your white blood cell count: \")\n",
        "rc = input(\"Please enter your red blood cell count: \")\n",
        "htn = input(\"Please enter your hypertension (1 for yes, 0 for no): \")\n",
        "dm = input(\"Please enter your diabetes mellitus (1 for yes, 0 for no): \")\n",
        "cad = input(\"Please enter your coronary artery disease (1 for yes, 0 for no): \")\n",
        "appet = input(\"Please enter your appetite (1 for good, 0 for poor): \")\n",
        "pe = input(\"Please enter your pedal edema (1 for yes, 0 for no): \")\n",
        "ane = input(\"Please enter your anemia(1 for yes, 0 for no) : \")\n",
        "df1 = pd.DataFrame(data=[[age,bp,sg,al, su, rbc,pc,pcc, ba, bgr, bu, sc, sod, pot, hemo, pcv, wc, rc, htn, dm, cad, appet, pe, ane]],columns=['age','bp','sg', 'al', 'su', 'rbc','pc','pcc', 'ba', 'bgr', 'bu', 'sc', 'sod', 'pot', 'hemo' , 'pcv', 'wc', 'rc', 'htn', 'dm', 'cad', 'appet', 'pe', 'ane'])\n",
        "inputdf = pd.concat([inputdf,df1], axis=0)\n",
        "\n",
        "inputdf.index = range(len(inputdf.index))\n",
        "print(inputdf)"
      ],
      "metadata": {
        "colab": {
          "base_uri": "https://localhost:8080/"
        },
        "id": "F6NYFtPqJru5",
        "outputId": "f3e60387-0d8d-4bee-bb2a-e1099db1e638"
      },
      "execution_count": 21,
      "outputs": [
        {
          "output_type": "stream",
          "name": "stdout",
          "text": [
            "Please enter your age: 23\n",
            "Please enter your blood pressure: 80\n",
            "Please enter your specific gravity: 1.01\n",
            "Please enter your albumin: 2\n",
            "Please enter your sugar level: 0\n",
            "Please enter your red blood cells (1 for abnormal, 0 for normal): 1\n",
            "Please enter your pus cell (1 for abnormal, 0 for normal): 0\n",
            "Please enter your pus cell clumps (1 for present, 0 for notpresent): 0\n",
            "Please enter your bacteria (1 for present, 0 for notpresent): 0\n",
            "Please enter your blood glucose random value: 80\n",
            "Please enter your blood urea value: 25\n",
            "Please enter your serum creatinine value: 25\n",
            "Please enter your sodium value: 25\n",
            "Please enter your potassium value: 25\n",
            "Please enter your hemoglobin value: 25\n",
            "Please enter your packed cell volume: 25\n",
            "Please enter your white blood cell count: 6000\n",
            "Please enter your red blood cell count: 3\n",
            "Please enter your hypertension (1 for yes, 0 for no): 0\n",
            "Please enter your diabetes mellitus (1 for yes, 0 for no): 0\n",
            "Please enter your coronary artery disease (1 for yes, 0 for no): 0\n",
            "Please enter your appetite (1 for good, 0 for poor): 1\n",
            "Please enter your pedal edema (1 for yes, 0 for no): 0\n",
            "Please enter your anemia(1 for yes, 0 for no) : 0\n",
            "  age  bp    sg al su rbc pc pcc ba bgr  ... hemo pcv    wc rc htn dm cad  \\\n",
            "0  23  80  1.01  2  0   1  0   0  0  80  ...   25  25  6000  3   0  0   0   \n",
            "\n",
            "  appet pe ane  \n",
            "0     1  0   0  \n",
            "\n",
            "[1 rows x 24 columns]\n"
          ]
        }
      ]
    },
    {
      "cell_type": "code",
      "source": [
        "prediction = model.predict(inputdf)\n",
        "if prediction == 1 :\n",
        "  print(\"There is a possibility that you have a risk of chronic disease.\")\n",
        "else:\n",
        "  print(\"It is seems like you do not have chronic disease.\")"
      ],
      "metadata": {
        "id": "ukQ6xnscJuFt",
        "colab": {
          "base_uri": "https://localhost:8080/"
        },
        "outputId": "58faa1a5-077f-4974-dcbe-60e9ca48810a"
      },
      "execution_count": 22,
      "outputs": [
        {
          "output_type": "stream",
          "name": "stdout",
          "text": [
            "There is a possibility that you have a risk of chronic disease.\n"
          ]
        }
      ]
    },
    {
      "cell_type": "code",
      "source": [
        "!pip install azure-storage-blob azure-identity"
      ],
      "metadata": {
        "id": "Ive8Y8pKzp3j",
        "colab": {
          "base_uri": "https://localhost:8080/"
        },
        "outputId": "3653437b-fea1-4a4f-d061-eb1372f45bfe"
      },
      "execution_count": 23,
      "outputs": [
        {
          "output_type": "stream",
          "name": "stdout",
          "text": [
            "Looking in indexes: https://pypi.org/simple, https://us-python.pkg.dev/colab-wheels/public/simple/\n",
            "Requirement already satisfied: azure-storage-blob in /usr/local/lib/python3.8/dist-packages (12.14.1)\n",
            "Requirement already satisfied: azure-identity in /usr/local/lib/python3.8/dist-packages (1.12.0)\n",
            "Requirement already satisfied: azure-core<2.0.0,>=1.24.2 in /usr/local/lib/python3.8/dist-packages (from azure-storage-blob) (1.26.1)\n",
            "Requirement already satisfied: cryptography>=2.1.4 in /usr/local/lib/python3.8/dist-packages (from azure-storage-blob) (38.0.4)\n",
            "Requirement already satisfied: msrest>=0.7.1 in /usr/local/lib/python3.8/dist-packages (from azure-storage-blob) (0.7.1)\n",
            "Requirement already satisfied: six>=1.11.0 in /usr/local/lib/python3.8/dist-packages (from azure-core<2.0.0,>=1.24.2->azure-storage-blob) (1.15.0)\n",
            "Requirement already satisfied: typing-extensions>=4.0.1 in /usr/local/lib/python3.8/dist-packages (from azure-core<2.0.0,>=1.24.2->azure-storage-blob) (4.4.0)\n",
            "Requirement already satisfied: requests>=2.18.4 in /usr/local/lib/python3.8/dist-packages (from azure-core<2.0.0,>=1.24.2->azure-storage-blob) (2.23.0)\n",
            "Requirement already satisfied: cffi>=1.12 in /usr/local/lib/python3.8/dist-packages (from cryptography>=2.1.4->azure-storage-blob) (1.15.1)\n",
            "Requirement already satisfied: pycparser in /usr/local/lib/python3.8/dist-packages (from cffi>=1.12->cryptography>=2.1.4->azure-storage-blob) (2.21)\n",
            "Requirement already satisfied: isodate>=0.6.0 in /usr/local/lib/python3.8/dist-packages (from msrest>=0.7.1->azure-storage-blob) (0.6.1)\n",
            "Requirement already satisfied: requests-oauthlib>=0.5.0 in /usr/local/lib/python3.8/dist-packages (from msrest>=0.7.1->azure-storage-blob) (1.3.1)\n",
            "Requirement already satisfied: certifi>=2017.4.17 in /usr/local/lib/python3.8/dist-packages (from msrest>=0.7.1->azure-storage-blob) (2022.12.7)\n",
            "Requirement already satisfied: urllib3!=1.25.0,!=1.25.1,<1.26,>=1.21.1 in /usr/local/lib/python3.8/dist-packages (from requests>=2.18.4->azure-core<2.0.0,>=1.24.2->azure-storage-blob) (1.24.3)\n",
            "Requirement already satisfied: idna<3,>=2.5 in /usr/local/lib/python3.8/dist-packages (from requests>=2.18.4->azure-core<2.0.0,>=1.24.2->azure-storage-blob) (2.10)\n",
            "Requirement already satisfied: chardet<4,>=3.0.2 in /usr/local/lib/python3.8/dist-packages (from requests>=2.18.4->azure-core<2.0.0,>=1.24.2->azure-storage-blob) (3.0.4)\n",
            "Requirement already satisfied: oauthlib>=3.0.0 in /usr/local/lib/python3.8/dist-packages (from requests-oauthlib>=0.5.0->msrest>=0.7.1->azure-storage-blob) (3.2.2)\n",
            "Requirement already satisfied: msal<2.0.0,>=1.12.0 in /usr/local/lib/python3.8/dist-packages (from azure-identity) (1.20.0)\n",
            "Requirement already satisfied: msal-extensions<2.0.0,>=0.3.0 in /usr/local/lib/python3.8/dist-packages (from azure-identity) (1.0.0)\n",
            "Requirement already satisfied: PyJWT[crypto]<3,>=1.0.0 in /usr/local/lib/python3.8/dist-packages (from msal<2.0.0,>=1.12.0->azure-identity) (2.6.0)\n",
            "Requirement already satisfied: portalocker<3,>=1.0 in /usr/local/lib/python3.8/dist-packages (from msal-extensions<2.0.0,>=0.3.0->azure-identity) (2.6.0)\n"
          ]
        }
      ]
    },
    {
      "cell_type": "code",
      "source": [
        "from azure.storage.blob import BlobClient\n",
        "\n",
        "blob = BlobClient(account_url=\"https://dmsfall2022hana.blob.core.windows.net\",\n",
        "                  container_name=\"dmsfall2022project\",\n",
        "                  blob_name=\"Insurance.csv\",\n",
        "                  credential=\"m9BQXt4novVtmuLf/EKic0GJ8C+xgi2mSlQNjYowiW555+2v0h9oax24G7As4PO/yPmrwio6Sg06+AStgWKZYA==\" )\n",
        "\n",
        "with open(\"Insurance.csv\", \"wb\") as f:\n",
        "    data = blob.download_blob()\n",
        "    data.readinto(f)"
      ],
      "metadata": {
        "id": "ie6rleNtztp8"
      },
      "execution_count": 24,
      "outputs": []
    },
    {
      "cell_type": "code",
      "source": [
        "import pandas as pd\n",
        "data_path = \"Insurance.csv\" \n",
        "df = pd.read_csv(data_path)"
      ],
      "metadata": {
        "id": "E8YzoDeFzu_D",
        "colab": {
          "base_uri": "https://localhost:8080/"
        },
        "outputId": "fa1f1ec2-b6da-49e1-ce85-834f8aa07c6c"
      },
      "execution_count": 25,
      "outputs": [
        {
          "output_type": "stream",
          "name": "stderr",
          "text": [
            "/usr/local/lib/python3.8/dist-packages/IPython/core/interactiveshell.py:3326: DtypeWarning: Columns (144) have mixed types.Specify dtype option on import or set low_memory=False.\n",
            "  exec(code_obj, self.user_global_ns, self.user_ns)\n"
          ]
        }
      ]
    },
    {
      "cell_type": "code",
      "source": [
        "column = df['PlanMarketingName']\n",
        "Interest = input(\"Are you interested in any insurance product? (yes or no)\")\n",
        "if Interest == 'yes':\n",
        "  print(column.unique()) \n",
        "else:\n",
        "  print(\"Thank you for your interest!\")"
      ],
      "metadata": {
        "id": "MAPcgY17zv_W",
        "colab": {
          "base_uri": "https://localhost:8080/"
        },
        "outputId": "a4f3fb6c-76a6-419a-859c-da1a5d3cbdeb"
      },
      "execution_count": 26,
      "outputs": [
        {
          "output_type": "stream",
          "name": "stdout",
          "text": [
            "Are you interested in any insurance product? (yes or no)yes\n",
            "['Premera Blue Cross Preferred Gold 1500'\n",
            " 'Premera Blue Cross Preferred Silver 4500'\n",
            " 'Premera Blue Cross Preferred Bronze 6350' ...\n",
            " 'High Plains Ind Gold Standard WY' 'High Plains Ind Silver Standard WY'\n",
            " 'High Plains Ind Bronze Standard WY Expanded']\n"
          ]
        }
      ]
    },
    {
      "cell_type": "code",
      "source": [
        "InsuranceName = input(\"Please enter the insurance name that you are interested\")"
      ],
      "metadata": {
        "id": "N1BIZLpizx3g",
        "colab": {
          "base_uri": "https://localhost:8080/"
        },
        "outputId": "9b3a8a16-fc6d-4b81-ea80-e8309e3bb6db"
      },
      "execution_count": 27,
      "outputs": [
        {
          "name": "stdout",
          "output_type": "stream",
          "text": [
            "Please enter the insurance name that you are interestedPremera Blue Cross Preferred Gold 1500\n"
          ]
        }
      ]
    },
    {
      "cell_type": "code",
      "source": [
        "filtered_df = df[df[\"PlanMarketingName\"] == InsuranceName]\n",
        "filtered_df.drop(['StateCode', 'FIPSCountyCode', 'CountyName', 'MetalLevel', 'HIOSIssuerID'],axis=1,inplace=True)\n",
        "filtered_df.dropna(axis=1, inplace=True)\n",
        "print(filtered_df.iloc[0])"
      ],
      "metadata": {
        "id": "WxJCiw46zzTl",
        "colab": {
          "base_uri": "https://localhost:8080/"
        },
        "outputId": "210bf4cd-91ac-4fe7-96f0-4a8d5f13a3c1"
      },
      "execution_count": 28,
      "outputs": [
        {
          "output_type": "stream",
          "name": "stdout",
          "text": [
            "IssuerName                        Premera Blue Cross Blue Shield of Alaska\n",
            "PlanID                                                      38344AK1060001\n",
            "PlanMarketingName                   Premera Blue Cross Preferred Gold 1500\n",
            "StandardizedPlanOption                                      Not Applicable\n",
            "PlanType                                                               PPO\n",
            "                                                    ...                   \n",
            "InpatientPhysicianStandard                30% Coinsurance after deductible\n",
            "GenericDrugsStandard                                                   $15\n",
            "PreferredBrandDrugsStandard                                            $45\n",
            "NonpreferredBrandDrugsStandard            50% Coinsurance after deductible\n",
            "SpecialtyDrugsStandard                    40% Coinsurance after deductible\n",
            "Name: 0, Length: 75, dtype: object\n"
          ]
        },
        {
          "output_type": "stream",
          "name": "stderr",
          "text": [
            "/usr/local/lib/python3.8/dist-packages/pandas/core/frame.py:4906: SettingWithCopyWarning: \n",
            "A value is trying to be set on a copy of a slice from a DataFrame\n",
            "\n",
            "See the caveats in the documentation: https://pandas.pydata.org/pandas-docs/stable/user_guide/indexing.html#returning-a-view-versus-a-copy\n",
            "  return super().drop(\n",
            "/usr/local/lib/python3.8/dist-packages/pandas/util/_decorators.py:311: SettingWithCopyWarning: \n",
            "A value is trying to be set on a copy of a slice from a DataFrame\n",
            "\n",
            "See the caveats in the documentation: https://pandas.pydata.org/pandas-docs/stable/user_guide/indexing.html#returning-a-view-versus-a-copy\n",
            "  return func(*args, **kwargs)\n"
          ]
        }
      ]
    }
  ]
}